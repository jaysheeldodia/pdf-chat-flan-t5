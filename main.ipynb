{
 "cells": [
  {
   "cell_type": "code",
   "execution_count": 1,
   "metadata": {},
   "outputs": [
    {
     "name": "stdout",
     "output_type": "stream",
     "text": [
      "Writing app.py\n"
     ]
    }
   ],
   "source": [
    "%%writefile app.py\n",
    "import streamlit as st\n",
    "from langchain.document_loaders import PyPDFLoader\n",
    "from langchain.text_splitter import RecursiveCharacterTextSplitter\n",
    "from langchain.vectorstores import FAISS\n",
    "from langchain.embeddings import HuggingFaceEmbeddings\n",
    "from transformers import pipeline\n",
    "import tempfile\n",
    "import os\n",
    "\n",
    "st.set_page_config(page_title=\"Chat with your PDF\", layout=\"wide\")\n",
    "st.title(\"📄 Chat with your PDF (Extractive QA)\")\n",
    "\n",
    "if \"retriever\" not in st.session_state:\n",
    "    st.session_state.retriever = None\n",
    "if \"qa_pipeline\" not in st.session_state:\n",
    "    st.session_state.qa_pipeline = None\n",
    "\n",
    "uploaded_file = st.file_uploader(\"Upload a PDF\", type=\"pdf\")\n",
    "\n",
    "if uploaded_file:\n",
    "    with tempfile.NamedTemporaryFile(delete=False, suffix=\".pdf\") as tmp_file:\n",
    "        tmp_file.write(uploaded_file.read())\n",
    "        pdf_path = tmp_file.name\n",
    "\n",
    "    st.info(\"📚 Loading and chunking PDF...\")\n",
    "    loader = PyPDFLoader(pdf_path)\n",
    "    documents = loader.load()\n",
    "\n",
    "    text_splitter = RecursiveCharacterTextSplitter(chunk_size=500, chunk_overlap=50)\n",
    "    docs = text_splitter.split_documents(documents)\n",
    "\n",
    "    st.info(\"🔍 Creating vector index...\")\n",
    "    embeddings = HuggingFaceEmbeddings(model_name=\"sentence-transformers/all-MiniLM-L6-v2\")\n",
    "    db = FAISS.from_documents(docs, embeddings)\n",
    "    st.session_state.retriever = db.as_retriever()\n",
    "\n",
    "    st.info(\"🤖 Loading QA model...\")\n",
    "    st.session_state.qa_pipeline = pipeline(\"question-answering\", model=\"deepset/roberta-base-squad2\", device=-1)\n",
    "\n",
    "    st.success(\"✅ Ready! Ask away below.\")\n",
    "\n",
    "if st.session_state.retriever and st.session_state.qa_pipeline:\n",
    "    query = st.text_input(\"Ask a question about the PDF:\")\n",
    "\n",
    "    if query:\n",
    "        with st.spinner(\"Thinking...\"):\n",
    "            retrieved_docs = st.session_state.retriever.get_relevant_documents(query)\n",
    "            context = \" \".join([doc.page_content for doc in retrieved_docs[:3]])\n",
    "            result = st.session_state.qa_pipeline(question=query, context=context)\n",
    "            st.markdown(f\"**Answer:** {result['answer']}\")\n"
   ]
  },
  {
   "cell_type": "code",
   "execution_count": null,
   "metadata": {},
   "outputs": [],
   "source": []
  }
 ],
 "metadata": {
  "kernelspec": {
   "display_name": "Python 3",
   "language": "python",
   "name": "python3"
  },
  "language_info": {
   "codemirror_mode": {
    "name": "ipython",
    "version": 3
   },
   "file_extension": ".py",
   "mimetype": "text/x-python",
   "name": "python",
   "nbconvert_exporter": "python",
   "pygments_lexer": "ipython3",
   "version": "3.13.2"
  }
 },
 "nbformat": 4,
 "nbformat_minor": 2
}
